{
 "cells": [
  {
   "cell_type": "code",
   "execution_count": 3,
   "id": "b3135636-4385-4a74-bcea-d9ca2fc2a646",
   "metadata": {},
   "outputs": [
    {
     "name": "stdout",
     "output_type": "stream",
     "text": [
      "Requirement already satisfied: bcrypt in c:\\users\\ashin\\anaconda3\\lib\\site-packages (3.2.0)\n",
      "Requirement already satisfied: cryptography in c:\\users\\ashin\\anaconda3\\lib\\site-packages (39.0.1)\n",
      "Requirement already satisfied: cffi>=1.1 in c:\\users\\ashin\\anaconda3\\lib\\site-packages (from bcrypt) (1.15.1)\n",
      "Requirement already satisfied: six>=1.4.1 in c:\\users\\ashin\\anaconda3\\lib\\site-packages (from bcrypt) (1.16.0)\n",
      "Requirement already satisfied: pycparser in c:\\users\\ashin\\anaconda3\\lib\\site-packages (from cffi>=1.1->bcrypt) (2.21)\n",
      "Note: you may need to restart the kernel to use updated packages.\n"
     ]
    }
   ],
   "source": [
    "pip install bcrypt cryptography\n"
   ]
  },
  {
   "cell_type": "code",
   "execution_count": 6,
   "id": "0ef5e364-5cc6-4529-b04a-24dd1f4b167f",
   "metadata": {
    "tags": []
   },
   "outputs": [
    {
     "name": "stdout",
     "output_type": "stream",
     "text": [
      "Hashed Password: b'$2b$12$gQZwD1.RIPM0AJcNFL5b/e1K3U7u//ROXLR0aAouNSHohpg3HFtMC'\n"
     ]
    }
   ],
   "source": [
    "import bcrypt\n",
    "def hash_password(password):\n",
    "    salt = bcrypt.gensalt() #Generate a unique salt\n",
    "    hashed_password = bcrypt.hashpw(password.encode(),salt)\n",
    "    return hashed_password\n",
    "\n",
    "\n",
    "password = \"Strongpassword123\"\n",
    "hashed = hash_password(password)\n",
    "print(f\"Hashed Password: {hashed}\")"
   ]
  },
  {
   "cell_type": "code",
   "execution_count": 12,
   "id": "2fa0f850-cf6c-4ce0-9a28-f55d3563e9af",
   "metadata": {
    "tags": []
   },
   "outputs": [
    {
     "name": "stdout",
     "output_type": "stream",
     "text": [
      "Encrypted: b'gAAAAABnmx9dUK4a-zQbZKFMHIsB1hG2-yc_2HHQu3-KRdPgFclKqPk5_TpedV68yCA-hsDK-7UDDi5B--s0DOOE5KfsJcDZUQ=='\n",
      "Decrypted: my_password\n"
     ]
    }
   ],
   "source": [
    "from cryptography.fernet import Fernet\n",
    "\n",
    "key = Fernet.generate_key()\n",
    "cipher = Fernet(key)\n",
    "\n",
    "def encrypt_data(data):\n",
    "    return cipher.encrypt(data.encode())\n",
    "\n",
    "def decrypt_data(encrypted_data):\n",
    "    return cipher.decrypt(encrypted_data).decode()\n",
    "\n",
    "\n",
    "encrypted = encrypt_data(\"my_password\")\n",
    "decrypted = decrypt_data(encrypted)\n",
    "\n",
    "print(f\"Encrypted: {encrypted}\")\n",
    "print(f\"Decrypted: {decrypted}\")\n",
    "      "
   ]
  },
  {
   "cell_type": "code",
   "execution_count": 24,
   "id": "80079b20-6ef7-4036-9e57-10ab75951e03",
   "metadata": {
    "tags": []
   },
   "outputs": [
    {
     "name": "stdout",
     "output_type": "stream",
     "text": [
      "Password saved successfully!\n",
      "Service: Google\n",
      "Username: user@example.com\n",
      "Hashed Password: $2b$12$gQZwD1.RIPM0AJcNFL5b/e1K3U7u//ROXLR0aAouNSHohpg3HFtMC\n",
      "Encrypted Password: gAAAAABnmx9dUK4a-zQbZKFMHIsB1hG2-yc_2HHQu3-KRdPgFclKqPk5_TpedV68yCA-hsDK-7UDDi5B--s0DOOE5KfsJcDZUQ==\n"
     ]
    }
   ],
   "source": [
    "import csv\n",
    "\n",
    "def save_password(service, username, hashed_password, encrypted_password):\n",
    "    with open (\"passwords.csv\", \"a\", newline =\"\")as file:\n",
    "        writer = csv.writer(file)\n",
    "        writer.writerow([service, username, hashed_password.decode(), encrypted_password.decode()])\n",
    "    print(f\"Password saved successfully!\\n\"\n",
    "          f\"Service: {service}\\n\"\n",
    "          f\"Username: {username}\\n\"\n",
    "          f\"Hashed Password: {hashed_password.decode()}\\n\"\n",
    "          f\"Encrypted Password: {encrypted_password.decode()}\")\n",
    "        \n",
    "save_password(\"Google\", \"user@example.com\", hashed, encrypted)"
   ]
  },
  {
   "cell_type": "code",
   "execution_count": 26,
   "id": "7c2d6d77-5c2b-4956-b29c-00571e43303e",
   "metadata": {
    "tags": []
   },
   "outputs": [
    {
     "name": "stdout",
     "output_type": "stream",
     "text": [
      "Sevice: Google, Username: user@example.com, Password: my_password\n",
      "Sevice: Google, Username: user@example.com, Password: my_password\n"
     ]
    }
   ],
   "source": [
    "def retrive_passwords():\n",
    "    with open(\"passwords.csv\", \"r\") as file:\n",
    "        reader = csv.reader(file)\n",
    "        for row in reader:\n",
    "            service, username, hashed, encrypted = row\n",
    "            decrypted_password = decrypt_data(encrypted.encode())\n",
    "            print(f\"Sevice: {service}, Username: {username}, Password: {decrypted_password}\")\n",
    "            \n",
    "retrive_passwords()"
   ]
  },
  {
   "cell_type": "code",
   "execution_count": null,
   "id": "6a5443bf-d7a2-499c-80c3-74d6744937cc",
   "metadata": {},
   "outputs": [],
   "source": []
  }
 ],
 "metadata": {
  "kernelspec": {
   "display_name": "Python 3 (ipykernel)",
   "language": "python",
   "name": "python3"
  },
  "language_info": {
   "codemirror_mode": {
    "name": "ipython",
    "version": 3
   },
   "file_extension": ".py",
   "mimetype": "text/x-python",
   "name": "python",
   "nbconvert_exporter": "python",
   "pygments_lexer": "ipython3",
   "version": "3.11.3"
  }
 },
 "nbformat": 4,
 "nbformat_minor": 5
}
